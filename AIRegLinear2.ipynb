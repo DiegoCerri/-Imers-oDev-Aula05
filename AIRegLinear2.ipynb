{
  "nbformat": 4,
  "nbformat_minor": 0,
  "metadata": {
    "colab": {
      "provenance": [],
      "authorship_tag": "ABX9TyPe+FKoVpwThdl8VbcX+8wK",
      "include_colab_link": true
    },
    "kernelspec": {
      "name": "python3",
      "display_name": "Python 3"
    },
    "language_info": {
      "name": "python"
    }
  },
  "cells": [
    {
      "cell_type": "markdown",
      "metadata": {
        "id": "view-in-github",
        "colab_type": "text"
      },
      "source": [
        "<a href=\"https://colab.research.google.com/github/DiegoCerri/-Imers-oDev-Aula05/blob/main/AIRegLinear2.ipynb\" target=\"_parent\"><img src=\"https://colab.research.google.com/assets/colab-badge.svg\" alt=\"Open In Colab\"/></a>"
      ]
    },
    {
      "cell_type": "code",
      "execution_count": null,
      "metadata": {
        "id": "N-xLXbx5ezrY"
      },
      "outputs": [],
      "source": [
        "#https://www.youtube.com/watch?v=JyGGMyR3x5I&t=13s\n",
        "\n",
        "#pip install -U scikit-learn -> para instalar a biblioteca sklearn\n",
        "\n",
        "#Tem pelo longo? , Tem perna curta? , Late? - 1 é sim e 0 é não\n",
        "\n",
        "from sklearn.svm import LinearSVC\n",
        "from sklearn.metrics import accuracy_score\n",
        "\n",
        "\n",
        "#porco1=[0,1,0]\n",
        "#porco2=[0,1,1]\n",
        "#porco3=[1,1,0]\n",
        "\n",
        "#cachorro1=[0,1,1]\n",
        "#cachorro2=[1,0,1]\n",
        "#cachorro3=[1,1,1]\n",
        "\n",
        "#0-carro 0,1,0\n",
        "#1-moto 1,1,0\n",
        "#2-bicicleta 1,0,0\n",
        "#3-caminhão 0,0,0\n",
        "#4-caminhonete 0,1,1\n",
        "\n",
        "#Duas rodas? Com motor a gasolina? É um utilitário utilitário? É um esportivo? É de luxo?\n",
        "\n",
        "cg125=[0,1,0,0,0]\n",
        "\n",
        "\n",
        "treino_x=[porco1,porco2,porco3,cachorro1,cachorro2,cachorro3]\n",
        "\n",
        "treino_y=[1,1,1,0,0,0] #0 é cachorro e 1 é porco\n",
        "\n",
        "\n",
        "modelo=LinearSVC()\n",
        "modelo.fit(treino_x,treino_y)\n",
        "\n",
        "#Com uma pergunta:\n",
        "#animal_misterioso=[0,0,0]\n",
        "#print(modelo.predict([animal_misterioso]))\n",
        "\n",
        "#Com varias perguntas:\n",
        "misterio1=[1,1,1]\n",
        "misterio2=[1,1,0]\n",
        "misterio3=[0,1,1]\n",
        "misterio4=[1,0,1]\n",
        "misterio5=[0,0,0]\n",
        "misterio6=[0,0,1]\n",
        "\n",
        "previsoes=modelo.predict([misterio1,misterio2,misterio3,misterio4,misterio5,misterio6])\n",
        "\n",
        "print(previsoes)\n",
        "\n",
        "print(accuracy_score(treino_y,previsoes))\n"
      ]
    }
  ]
}